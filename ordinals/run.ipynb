{
 "cells": [
  {
   "cell_type": "code",
   "execution_count": 1,
   "metadata": {},
   "outputs": [],
   "source": [
    "from classes.AddressMonitor import AddressMonitor\n",
    "import pandas as pd\n",
    "\n",
    "add_mon = AddressMonitor(\"bc1qhuv3dhpnm0wktasd3v0kt6e4aqfqsd0uhfdu7d\")\n",
    "\n",
    "# add_mon.get_activity(n_activity=300)"
   ]
  },
  {
   "cell_type": "code",
   "execution_count": 2,
   "metadata": {},
   "outputs": [],
   "source": [
    "add_mon.activity = pd.DataFrame([{\"block_hash\": \"...\"}])"
   ]
  },
  {
   "cell_type": "code",
   "execution_count": 6,
   "metadata": {},
   "outputs": [
    {
     "data": {
      "text/plain": [
       "0"
      ]
     },
     "execution_count": 6,
     "metadata": {},
     "output_type": "execute_result"
    }
   ],
   "source": [
    "len(add_mon.get_new_activity(n_activity=200))"
   ]
  },
  {
   "cell_type": "code",
   "execution_count": 10,
   "metadata": {},
   "outputs": [
    {
     "data": {
      "text/plain": [
       "Index(['block_time', 'amount', 'inscription_number', 'block_hash',\n",
       "       'inscription_id', 'to_address', 'tick', 'block_height', 'tx_id',\n",
       "       'tx_index', 'event', 'from_address'],\n",
       "      dtype='object')"
      ]
     },
     "execution_count": 10,
     "metadata": {},
     "output_type": "execute_result"
    }
   ],
   "source": [
    "add_mon.activity.columns"
   ]
  },
  {
   "cell_type": "code",
   "execution_count": 15,
   "metadata": {},
   "outputs": [],
   "source": [
    "txt = \"fksjdfP{}\""
   ]
  },
  {
   "cell_type": "code",
   "execution_count": 26,
   "metadata": {},
   "outputs": [
    {
     "data": {
      "text/plain": [
       "'fksjdfP[1, 3]'"
      ]
     },
     "execution_count": 26,
     "metadata": {},
     "output_type": "execute_result"
    }
   ],
   "source": [
    "txt.format([1,3])"
   ]
  },
  {
   "cell_type": "code",
   "execution_count": 23,
   "metadata": {},
   "outputs": [
    {
     "name": "stdout",
     "output_type": "stream",
     "text": [
      "2543.0\n",
      "1.5\n",
      "1.5\n",
      "1.54\n",
      "1.54\n",
      "1.51\n",
      "1.51\n",
      "1.53\n",
      "1.53\n",
      "1.52\n",
      "1.52\n",
      "96400000000.0\n",
      "70000000000.0\n",
      "878435210731.4159\n",
      "328600000000.0\n",
      "2497.5\n",
      "2497.5\n",
      "2444.49621\n",
      "60000000000.0\n",
      "358000000000.0\n",
      "366534735159.2698\n",
      "330065754941.62\n",
      "214.37\n",
      "214.37\n",
      "243.0\n",
      "243.0\n",
      "75499999000.0\n",
      "649962247253.0\n",
      "238.8\n",
      "238.8\n",
      "264.56\n",
      "264.56\n",
      "120000000.0\n",
      "120000000.0\n",
      "294.01\n",
      "294.01\n",
      "309.64\n",
      "309.64\n",
      "303.43\n",
      "303.43\n",
      "80000000000.0\n",
      "305.5\n",
      "305.5\n",
      "4460.78916\n",
      "321.08\n",
      "321.08\n",
      "281183644148.0\n",
      "322.42\n",
      "322.42\n",
      "301.97\n",
      "301.97\n",
      "300.34\n",
      "300.34\n",
      "266.69\n",
      "266.69\n",
      "66579511279.0\n",
      "24997.08\n",
      "24997.08\n",
      "1049828298000.0\n",
      "1049828298000.0\n",
      "4997.5\n",
      "274.18\n",
      "274.18\n",
      "24996.76\n",
      "24996.76\n",
      "280.17\n",
      "280.17\n",
      "288.4\n",
      "288.4\n",
      "16372.68\n",
      "16372.68\n",
      "298.57\n",
      "298.57\n",
      "100000000000.0\n",
      "325.99\n",
      "325.99\n",
      "328.07\n",
      "328.07\n",
      "324.91\n",
      "324.91\n",
      "5480.56\n",
      "5480.56\n",
      "120000000.0\n",
      "120000000.0\n",
      "322.25\n",
      "322.25\n",
      "326.06\n",
      "326.06\n",
      "340.75\n",
      "340.75\n",
      "16483.69\n",
      "16483.69\n",
      "58000008000.0\n",
      "355.9\n",
      "355.9\n",
      "364.84\n",
      "364.84\n",
      "375.02\n",
      "375.02\n",
      "23820000000.0\n",
      "23820000000.0\n",
      "85000000000.0\n",
      "331051440.0\n",
      "331051440.0\n",
      "401.69\n",
      "401.69\n",
      "339.98\n",
      "339.98\n",
      "342.81\n",
      "342.81\n",
      "384000000000.0\n",
      "49703114120.0\n",
      "49703114120.0\n",
      "120000000.0\n",
      "120000000.0\n",
      "390.26\n",
      "390.26\n",
      "414.46\n",
      "414.46\n",
      "997.5\n",
      "997.5\n",
      "200000000000.0\n",
      "314.25\n",
      "314.25\n",
      "342.34\n",
      "342.34\n",
      "2721.0\n",
      "390.05\n",
      "390.05\n",
      "100000000000.0\n",
      "410.98\n",
      "410.98\n",
      "200000000000.0\n",
      "200000000000.0\n",
      "1.5\n",
      "1.5\n",
      "290.92\n",
      "290.92\n",
      "2899.5\n",
      "2899.5\n",
      "222.63\n",
      "222.63\n",
      "298.33\n",
      "298.33\n",
      "2007.39834\n",
      "2305478360.0\n",
      "2305478360.0\n",
      "62681078814.0\n",
      "22.09\n",
      "22.09\n",
      "307.93\n",
      "307.93\n",
      "88342171717.0\n",
      "312.43\n",
      "312.43\n",
      "153662610348.6356\n",
      "165000000000.0\n",
      "152973005380.11893\n",
      "1000.0\n",
      "287.25\n",
      "287.25\n",
      "110.0\n",
      "110.0\n",
      "338.13\n",
      "338.13\n",
      "273.9\n",
      "273.9\n",
      "426.31\n",
      "426.31\n",
      "555.98\n",
      "555.98\n",
      "220.89\n",
      "220.89\n",
      "460.17\n",
      "460.17\n",
      "401.9\n",
      "401.9\n",
      "131.12\n",
      "131.12\n",
      "460579128080.8752\n",
      "800000000000.0\n",
      "421125197896.0\n",
      "50000000000.0\n",
      "19999.76\n",
      "5241.0\n",
      "88996276181.5009\n",
      "133000000000.0\n",
      "39998.14\n",
      "2540.0\n",
      "67000000000.0\n",
      "295.71\n",
      "295.71\n",
      "9.71\n",
      "9.71\n",
      "1.2888888888888888e+18\n",
      "661269000.0\n",
      "661269000.0\n",
      "120000000.0\n",
      "120000000.0\n",
      "53156203000.0\n",
      "nan\n"
     ]
    }
   ],
   "source": [
    "for index, act in add_mon.activity.iterrows():\n",
    "    print(act[\"amount\"])"
   ]
  }
 ],
 "metadata": {
  "kernelspec": {
   "display_name": "trading",
   "language": "python",
   "name": "python3"
  },
  "language_info": {
   "codemirror_mode": {
    "name": "ipython",
    "version": 3
   },
   "file_extension": ".py",
   "mimetype": "text/x-python",
   "name": "python",
   "nbconvert_exporter": "python",
   "pygments_lexer": "ipython3",
   "version": "3.11.4"
  }
 },
 "nbformat": 4,
 "nbformat_minor": 2
}
