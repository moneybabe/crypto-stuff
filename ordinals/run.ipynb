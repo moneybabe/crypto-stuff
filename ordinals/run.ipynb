{
 "cells": [
  {
   "cell_type": "code",
   "execution_count": 1,
   "metadata": {},
   "outputs": [],
   "source": [
    "from classes.Token import Token\n",
    "import pandas as pd\n",
    "import matplotlib.pyplot as plt\n",
    "from configparser import ConfigParser\n",
    "\n",
    "config = ConfigParser()\n",
    "config.read(\"config.ini\")\n",
    "api_key = config.get(\"okx\", \"api_key\")\n",
    "secret_key = config.get(\"okx\", \"secret_key\")\n",
    "password = config.get(\"okx\", \"password\")\n",
    "\n",
    "rats = Token(\"rats\")"
   ]
  },
  {
   "cell_type": "code",
   "execution_count": 20,
   "metadata": {},
   "outputs": [
    {
     "name": "stdout",
     "output_type": "stream",
     "text": [
      "Empty DataFrame\n",
      "Columns: []\n",
      "Index: []\n"
     ]
    }
   ],
   "source": [
    "import requests\n",
    "tick = None\n",
    "address = \"bc1qhuv3dhpnm0wktasd3v0kt6e4aqfqsd0uhfdu7d\"\n",
    "request_path = \"/api/1/brc20/activities\"\n",
    "url = \"https://api.geniidata.com\" + request_path\n",
    "activity_df = pd.DataFrame()\n",
    "for n in range(0, 300, 100):\n",
    "    params = {\n",
    "        \"limit\": 100,\n",
    "        \"offset\": n,\n",
    "        \"order\": \"desc\",\n",
    "        \"address\": address\n",
    "    }\n",
    "    if tick is not None:\n",
    "        params[\"tick\"] = tick\n",
    "    headers = {\n",
    "        \"accept\": \"application/json\",\n",
    "        \"api-key\": \"142cf1b0-1ca7-11ee-bb5e-9d74c2e854ac\"\n",
    "    }\n",
    "    with requests.get(url, headers=headers, params=params) as response:\n",
    "        data = pd.DataFrame(response.json()[\"data\"][\"list\"])\n",
    "        activity_df = pd.concat(\n",
    "            [activity_df, data],\n",
    "            ignore_index=True\n",
    "        )   \n",
    "print(activity_df.head())"
   ]
  }
 ],
 "metadata": {
  "kernelspec": {
   "display_name": "trading",
   "language": "python",
   "name": "python3"
  },
  "language_info": {
   "codemirror_mode": {
    "name": "ipython",
    "version": 3
   },
   "file_extension": ".py",
   "mimetype": "text/x-python",
   "name": "python",
   "nbconvert_exporter": "python",
   "pygments_lexer": "ipython3",
   "version": "3.11.4"
  }
 },
 "nbformat": 4,
 "nbformat_minor": 2
}
